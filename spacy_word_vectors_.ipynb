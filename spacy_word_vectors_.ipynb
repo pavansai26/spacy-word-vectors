{
  "nbformat": 4,
  "nbformat_minor": 0,
  "metadata": {
    "colab": {
      "name": "spacy word vectors .ipynb",
      "provenance": [],
      "private_outputs": true,
      "authorship_tag": "ABX9TyMmvTYW18c7drsUCRafGuKj",
      "include_colab_link": true
    },
    "kernelspec": {
      "name": "python3",
      "display_name": "Python 3"
    },
    "accelerator": "GPU"
  },
  "cells": [
    {
      "cell_type": "markdown",
      "metadata": {
        "id": "view-in-github",
        "colab_type": "text"
      },
      "source": [
        "<a href=\"https://colab.research.google.com/github/pavansai26/spacy-word-vectors/blob/master/spacy_word_vectors_.ipynb\" target=\"_parent\"><img src=\"https://colab.research.google.com/assets/colab-badge.svg\" alt=\"Open In Colab\"/></a>"
      ]
    },
    {
      "cell_type": "code",
      "metadata": {
        "id": "SVSdqA-fQEek",
        "colab_type": "code",
        "colab": {}
      },
      "source": [
        "pip install spacy"
      ],
      "execution_count": 0,
      "outputs": []
    },
    {
      "cell_type": "code",
      "metadata": {
        "id": "1yLSf3n0RpYT",
        "colab_type": "code",
        "colab": {}
      },
      "source": [
        "import spacy.cli\n",
        "spacy.cli.download(\"en_core_web_lg\")\n",
        "import en_core_web_lg\n",
        "nlp = en_core_web_lg.load()"
      ],
      "execution_count": 0,
      "outputs": []
    },
    {
      "cell_type": "code",
      "metadata": {
        "id": "VkVo-SMdQiWS",
        "colab_type": "code",
        "colab": {}
      },
      "source": [
        "nlp = spacy.load('en_core_web_lg')"
      ],
      "execution_count": 0,
      "outputs": []
    },
    {
      "cell_type": "code",
      "metadata": {
        "id": "bOV0DHdNQ0sa",
        "colab_type": "code",
        "colab": {}
      },
      "source": [
        "print(nlp.pipe_names)"
      ],
      "execution_count": 0,
      "outputs": []
    },
    {
      "cell_type": "code",
      "metadata": {
        "id": "oza4GlghTZ4i",
        "colab_type": "code",
        "colab": {}
      },
      "source": [
        "print(nlp.pipe_labels)"
      ],
      "execution_count": 0,
      "outputs": []
    },
    {
      "cell_type": "code",
      "metadata": {
        "id": "ZSrdgbLgTetu",
        "colab_type": "code",
        "colab": {}
      },
      "source": [
        "print(nlp.pipe_factories)"
      ],
      "execution_count": 0,
      "outputs": []
    },
    {
      "cell_type": "code",
      "metadata": {
        "id": "6nhPxa8PTlk5",
        "colab_type": "code",
        "colab": {}
      },
      "source": [
        "doc = nlp('transformer encoder decoder')"
      ],
      "execution_count": 0,
      "outputs": []
    },
    {
      "cell_type": "code",
      "metadata": {
        "id": "TRo58ixQTwTr",
        "colab_type": "code",
        "colab": {}
      },
      "source": [
        "doc.tensor.shape"
      ],
      "execution_count": 0,
      "outputs": []
    },
    {
      "cell_type": "code",
      "metadata": {
        "id": "NeW7G8PhT0DY",
        "colab_type": "code",
        "colab": {}
      },
      "source": [
        "text1 = nlp('i went to river bank for evening walk')\n",
        "text2 = nlp('i went to deposit rs 1000 in my bank account')\n",
        "text3 = nlp('i went to river bank for morning walk')\n",
        "text4 = nlp('i went to withdraw rs 1000 from my bank account')"
      ],
      "execution_count": 0,
      "outputs": []
    },
    {
      "cell_type": "code",
      "metadata": {
        "id": "9p0EPBbUUtM2",
        "colab_type": "code",
        "colab": {}
      },
      "source": [
        "print(text1[4].similarity(text2[8]))"
      ],
      "execution_count": 0,
      "outputs": []
    },
    {
      "cell_type": "code",
      "metadata": {
        "id": "20bG6J5HVCZG",
        "colab_type": "code",
        "colab": {}
      },
      "source": [
        "print(text1[4].similarity(text3[4]))"
      ],
      "execution_count": 0,
      "outputs": []
    },
    {
      "cell_type": "code",
      "metadata": {
        "id": "iU8Kgl7LVT6E",
        "colab_type": "code",
        "colab": {}
      },
      "source": [
        "print(text1[4].similarity(text4[8]))\n"
      ],
      "execution_count": 0,
      "outputs": []
    },
    {
      "cell_type": "code",
      "metadata": {
        "id": "9YZds1uYVxfS",
        "colab_type": "code",
        "colab": {}
      },
      "source": [
        "print(text2[8].similarity(text4[8]))"
      ],
      "execution_count": 0,
      "outputs": []
    },
    {
      "cell_type": "code",
      "metadata": {
        "id": "7a__UihVV4dR",
        "colab_type": "code",
        "colab": {}
      },
      "source": [
        "print(text1.similarity(text2))"
      ],
      "execution_count": 0,
      "outputs": []
    },
    {
      "cell_type": "code",
      "metadata": {
        "id": "lnG0hmDgWZFc",
        "colab_type": "code",
        "colab": {}
      },
      "source": [
        "print(text1.similarity(text3))"
      ],
      "execution_count": 0,
      "outputs": []
    },
    {
      "cell_type": "code",
      "metadata": {
        "id": "fW0Umd0MWe-X",
        "colab_type": "code",
        "colab": {}
      },
      "source": [
        "print(text1.similarity(text4))"
      ],
      "execution_count": 0,
      "outputs": []
    },
    {
      "cell_type": "code",
      "metadata": {
        "id": "vPSJO6UGWjri",
        "colab_type": "code",
        "colab": {}
      },
      "source": [
        "print(text2.similarity(text4))"
      ],
      "execution_count": 0,
      "outputs": []
    },
    {
      "cell_type": "code",
      "metadata": {
        "id": "mV31-U3XWp2d",
        "colab_type": "code",
        "colab": {}
      },
      "source": [
        ""
      ],
      "execution_count": 0,
      "outputs": []
    }
  ]
}